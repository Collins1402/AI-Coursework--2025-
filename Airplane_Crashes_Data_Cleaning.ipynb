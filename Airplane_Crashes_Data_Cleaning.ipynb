{
 "cells": [
  {
   "cell_type": "markdown",
   "id": "0465b10e",
   "metadata": {},
   "source": [
    "# Airplane Crashes — Data Cleaning\n",
    "\n",
    "Source file: `/mnt/data/Airplane_Crashes_and_Fatalities_Since_1908.csv`\n",
    "\n",
    "**1. Number of rows and columns**\n",
    "\n",
    "- Rows: 5268\n",
    "- Columns: 13\n"
   ]
  },
  {
   "cell_type": "code",
   "execution_count": null,
   "id": "5319885c",
   "metadata": {},
   "outputs": [],
   "source": [
    "%pip install pandas numpy\n",
    "\n",
    "import pandas as pd\n",
    "import numpy as np\n",
    "df = pd.read_csv('C:\\\\Users\\\\colli\\\\OneDrive - Strathmore University\\\\AI-Coursework--2025-\\\\Airplane_Crashes_and_Fatalities_Since_1908.csv')\n",
    "df.shape\n"
   ]
  },
  {
   "cell_type": "markdown",
   "id": "c0851f77",
   "metadata": {},
   "source": [
    "**2. Last 75 rows of the dataset**"
   ]
  },
  {
   "cell_type": "code",
   "execution_count": null,
   "id": "d7152543",
   "metadata": {},
   "outputs": [],
   "source": [
    "df.tail(75)"
   ]
  },
  {
   "cell_type": "markdown",
   "id": "b9395b17",
   "metadata": {},
   "source": [
    "**3. Missing values per column and recommended treatment**"
   ]
  },
  {
   "cell_type": "code",
   "execution_count": null,
   "id": "a44f0a0c",
   "metadata": {},
   "outputs": [],
   "source": [
    "missing_table = pd.DataFrame({'missing_count': df.isna().sum(), 'missing_pct': (df.isna().sum()/len(df)*100).round(2)})\n",
    "missing_table"
   ]
  },
  {
   "cell_type": "code",
   "execution_count": null,
   "id": "95a29256",
   "metadata": {},
   "outputs": [],
   "source": [
    "recommendations = ['First column — typically an identifier/date column: parse dates if needed and keep original.', \"Column `Time` — missing 2219 (42.12%). Recommended: Impute with mode (most frequent) or placeholder 'Unknown'; investigate category meanings.\", \"Column `Location` — missing 20 (0.38%). Recommended: Impute with mode (most frequent) or placeholder 'Unknown'; investigate category meanings.\", \"Column `Operator` — missing 18 (0.34%). Recommended: Impute with mode (most frequent) or placeholder 'Unknown'; investigate category meanings.\", 'Column `Flight #` — missing 4199 (79.71%). Recommended: Drop column or keep for reference; too many missing values to impute reliably.', \"Column `Route` — missing 1706 (32.38%). Recommended: Impute with mode (most frequent) or placeholder 'Unknown'; investigate category meanings.\", \"Column `Type` — missing 27 (0.51%). Recommended: Impute with mode (most frequent) or placeholder 'Unknown'; investigate category meanings.\", \"Column `Registration` — missing 335 (6.36%). Recommended: Impute with mode (most frequent) or placeholder 'Unknown'; investigate category meanings.\", \"Column `cn/In` — missing 1228 (23.31%). Recommended: Impute with mode (most frequent) or placeholder 'Unknown'; investigate category meanings.\", 'Column `Aboard` — missing 22 (0.42%). Recommended: Impute using median (robust to outliers) or mean if distribution is symmetric.', 'Column `Fatalities` — missing 12 (0.23%). Recommended: Impute using median (robust to outliers) or mean if distribution is symmetric.', 'Column `Ground` — missing 22 (0.42%). Recommended: Impute using median (robust to outliers) or mean if distribution is symmetric.', \"Column `Summary` — missing 390 (7.4%). Recommended: Impute with mode (most frequent) or placeholder 'Unknown'; investigate category meanings.\"]\n",
    "for r in recommendations:\n",
    "    print('- ' + r)\n"
   ]
  },
  {
   "cell_type": "markdown",
   "id": "da91b09b",
   "metadata": {},
   "source": [
    "**4. Creating `fatality_locations` dataframe**\n",
    "\n",
    "Detected columns:\n",
    "- Date: `Date`\n",
    "- Location: `Location`\n",
    "- Aboard: `Aboard`\n",
    "- Fatalities: `Fatalities`\n"
   ]
  },
  {
   "cell_type": "code",
   "execution_count": null,
   "id": "544ceeb9",
   "metadata": {},
   "outputs": [],
   "source": [
    "fatality_locations = df[['Date', 'Location', 'Aboard', 'Fatalities']].copy()\n",
    "fatality_locations.columns = ['Date','Location','Aboard','Fatalities']\n",
    "\n",
    "fatality_locations['Aboard'] = pd.to_numeric(fatality_locations['Aboard'], errors='coerce')\n",
    "fatality_locations['Fatalities'] = pd.to_numeric(fatality_locations['Fatalities'], errors='coerce')\n",
    "\n",
    "fatality_locations.head()\n"
   ]
  },
  {
   "cell_type": "markdown",
   "id": "32400e7d",
   "metadata": {},
   "source": [
    "**5. Date with the highest recorded fatalities**"
   ]
  },
  {
   "cell_type": "code",
   "execution_count": null,
   "id": "c89712e5",
   "metadata": {},
   "outputs": [],
   "source": [
    "max_row = fatality_locations.loc[fatality_locations['Fatalities'].idxmax()]\n",
    "max_row[['Date','Location','Aboard','Fatalities']]"
   ]
  },
  {
   "cell_type": "markdown",
   "id": "b8a8d758",
   "metadata": {},
   "source": [
    "**6. Compare number aboard vs fatalities; count crashes with zero fatalities**"
   ]
  },
  {
   "cell_type": "code",
   "execution_count": null,
   "id": "64b2071c",
   "metadata": {},
   "outputs": [],
   "source": [
    "zero_fatal = fatality_locations[fatality_locations['Fatalities']==0]\n",
    "num_zero_fatal = len(zero_fatal)\n",
    "num_zero_fatal"
   ]
  },
  {
   "cell_type": "markdown",
   "id": "b9035e56",
   "metadata": {},
   "source": [
    "**7. Split `Location` into `Region` and `State/Country`**"
   ]
  },
  {
   "cell_type": "code",
   "execution_count": null,
   "id": "ecc619a8",
   "metadata": {},
   "outputs": [],
   "source": [
    "\n",
    "def split_location(x):\n",
    "    if pd.isna(x):\n",
    "        return pd.Series([pd.NA, pd.NA])\n",
    "    parts = [p.strip() for p in x.rsplit(',', 1)]\n",
    "    if len(parts) == 2:\n",
    "        return pd.Series(parts)\n",
    "    else:\n",
    "        return pd.Series([parts[0], pd.NA])\n",
    "\n",
    "fatality_locations[['Region','State/Country']] = fatality_locations['Location'].apply(split_location)\n",
    "fatality_locations[['Date','Location','Region','State/Country','Aboard','Fatalities']].head()\n"
   ]
  },
  {
   "cell_type": "markdown",
   "id": "3303dee2",
   "metadata": {},
   "source": [
    "**8. Top 100 crashes ordered by Fatalities (highest → lowest)**"
   ]
  },
  {
   "cell_type": "code",
   "execution_count": null,
   "id": "11eb1539",
   "metadata": {},
   "outputs": [],
   "source": [
    "top100 = fatality_locations.sort_values('Fatalities', ascending=False).head(100)\n",
    "top100[['Date','Region','State/Country','Aboard','Fatalities']]"
   ]
  },
  {
   "cell_type": "markdown",
   "id": "0095551a",
   "metadata": {},
   "source": [
    "**9. Pie chart: Top 25 fatalities by Country/U.S. State (sum of Fatalities)**"
   ]
  },
  {
   "cell_type": "code",
   "execution_count": null,
   "id": "2dd17df3",
   "metadata": {},
   "outputs": [],
   "source": [
    "\n",
    "%pip install matplotlib\n",
    "\n",
    "import matplotlib.pyplot as plt\n",
    "\n",
    "agg = fatality_locations.copy()\n",
    "agg['State/Country'] = agg['State/Country'].fillna('Unknown')\n",
    "by_country = agg.groupby('State/Country')['Fatalities'].sum().sort_values(ascending=False)\n",
    "top25 = by_country.head(25)\n",
    "\n",
    "plt.figure(figsize=(10,10))\n",
    "top25.plot.pie(autopct='%1.1f%%', startangle=90, ylabel='')\n",
    "plt.title('Top 25 fatalities by Country / U.S. State (sum of Fatalities)')\n",
    "plt.tight_layout()\n",
    "plt.show()\n",
    "\n",
    "top25\n"
   ]
  }
 ],
 "metadata": {
  "kernelspec": {
   "display_name": ".venv (3.12.6)",
   "language": "python",
   "name": "python3"
  },
  "language_info": {
   "codemirror_mode": {
    "name": "ipython",
    "version": 3
   },
   "file_extension": ".py",
   "mimetype": "text/x-python",
   "name": "python",
   "nbconvert_exporter": "python",
   "pygments_lexer": "ipython3",
   "version": "3.12.6"
  }
 },
 "nbformat": 4,
 "nbformat_minor": 5
}
