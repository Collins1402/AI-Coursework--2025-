{
 "cells": [
  {
   "cell_type": "code",
   "execution_count": 4,
   "id": "5319885c",
   "metadata": {},
   "outputs": [
    {
     "name": "stdout",
     "output_type": "stream",
     "text": [
      "Requirement already satisfied: pandas in c:\\users\\colli\\onedrive - strathmore university\\ai-coursework--2025-\\.venv\\lib\\site-packages (2.3.3)\n",
      "Requirement already satisfied: numpy in c:\\users\\colli\\onedrive - strathmore university\\ai-coursework--2025-\\.venv\\lib\\site-packages (2.3.3)\n",
      "Requirement already satisfied: python-dateutil>=2.8.2 in c:\\users\\colli\\onedrive - strathmore university\\ai-coursework--2025-\\.venv\\lib\\site-packages (from pandas) (2.9.0.post0)\n",
      "Requirement already satisfied: pytz>=2020.1 in c:\\users\\colli\\onedrive - strathmore university\\ai-coursework--2025-\\.venv\\lib\\site-packages (from pandas) (2025.2)\n",
      "Requirement already satisfied: tzdata>=2022.7 in c:\\users\\colli\\onedrive - strathmore university\\ai-coursework--2025-\\.venv\\lib\\site-packages (from pandas) (2025.2)\n",
      "Requirement already satisfied: six>=1.5 in c:\\users\\colli\\onedrive - strathmore university\\ai-coursework--2025-\\.venv\\lib\\site-packages (from python-dateutil>=2.8.2->pandas) (1.17.0)\n",
      "Note: you may need to restart the kernel to use updated packages.\n"
     ]
    },
    {
     "name": "stderr",
     "output_type": "stream",
     "text": [
      "\n",
      "[notice] A new release of pip is available: 24.2 -> 25.2\n",
      "[notice] To update, run: python.exe -m pip install --upgrade pip\n"
     ]
    },
    {
     "data": {
      "text/plain": [
       "(5268, 13)"
      ]
     },
     "execution_count": 4,
     "metadata": {},
     "output_type": "execute_result"
    }
   ],
   "source": [
    "%pip install pandas numpy\n",
    "\n",
    "import pandas as pd\n",
    "import numpy as np\n",
    "df = pd.read_csv('C:\\\\Users\\\\colli\\\\OneDrive - Strathmore University\\\\AI-Coursework--2025-\\\\Airplane_Crashes (excel sheet).csv')\n",
    "df.shape\n"
   ]
  },
  {
   "cell_type": "code",
   "execution_count": 5,
   "id": "d7152543",
   "metadata": {},
   "outputs": [
    {
     "data": {
      "application/vnd.microsoft.datawrangler.viewer.v0+json": {
       "columns": [
        {
         "name": "index",
         "rawType": "int64",
         "type": "integer"
        },
        {
         "name": "Date",
         "rawType": "object",
         "type": "string"
        },
        {
         "name": "Time",
         "rawType": "object",
         "type": "unknown"
        },
        {
         "name": "Location",
         "rawType": "object",
         "type": "string"
        },
        {
         "name": "Operator",
         "rawType": "object",
         "type": "string"
        },
        {
         "name": "Flight #",
         "rawType": "object",
         "type": "unknown"
        },
        {
         "name": "Route",
         "rawType": "object",
         "type": "unknown"
        },
        {
         "name": "Type",
         "rawType": "object",
         "type": "string"
        },
        {
         "name": "Registration",
         "rawType": "object",
         "type": "unknown"
        },
        {
         "name": "cn/In",
         "rawType": "object",
         "type": "unknown"
        },
        {
         "name": "Aboard",
         "rawType": "float64",
         "type": "float"
        },
        {
         "name": "Fatalities",
         "rawType": "float64",
         "type": "float"
        },
        {
         "name": "Ground",
         "rawType": "float64",
         "type": "float"
        },
        {
         "name": "Summary",
         "rawType": "object",
         "type": "string"
        }
       ],
       "ref": "56aa0ed6-67f9-45da-b546-402e0fa28bc3",
       "rows": [
        [
         "5193",
         "03/15/2008",
         "08:15",
         "Nbagu, Nigeria",
         "Trade Wings Aviation Ltd.",
         null,
         "Lagos - Bebi Air Strip",
         "Beechcraft 1900D",
         "5N-JAH",
         "UE-322",
         "3.0",
         "3.0",
         "0.0",
         "The plane crashed while en route. Wreckage was found the next day near Nbagu Village."
        ],
        [
         "5194",
         "04/03/2008",
         "11:00",
         "Lawa, Suriname",
         "Blue Wing Airlines",
         null,
         "Paramaribo - Lawa",
         "Antonov An-28",
         "PZ-TSO",
         "1AJ007-17",
         "19.0",
         "19.0",
         "0.0",
         "While attempting to land the crew aborted the the approach and executed a go-around. Soon after the plane flew into a hillside."
        ],
        [
         "5195",
         "04/09/2008",
         "23:27",
         "Bundeena, Australia",
         "Avtex Air Services",
         null,
         "Sydney - Brisbane",
         "Swearingen SA227AC Metroliner III",
         "VH-OZA",
         "AC-600",
         "1.0",
         "1.0",
         "0.0",
         "The pilot of the mail plane reported some minor problems before the aircraft disapppeared off radar."
        ],
        [
         "5196",
         "04/11/2008",
         "22:15",
         "Chrisinau, Moldova",
         "Kata Transportation",
         null,
         "Chrisinau, Moldova - Antalya, Turkey - Sudan",
         "Antonov An-32",
         "ST-AZL",
         "3009",
         "8.0",
         "8.0",
         "0.0",
         "Just minutes after the take off the plane tried to return to the airport because of engine problems, but crashed about 100 metres away from the runway. Pilots tried to land the transport, which was carrying a cargo of 2.3 tons of fuel, but a wing struck a fence and electrical wires and the plane crashed and burst into flames. All eight crew members aboard were killed"
        ],
        [
         "5197",
         "04/15/2008",
         "14:30",
         "Goma, Congo",
         "Hewa Bora Airways",
         null,
         "Goma - Kisangani - Kinshasa",
         "McDonnell Douglas DC-9-51",
         "9Q-CHN",
         "47731",
         "85.0",
         "0.0",
         "47.0",
         "While attempting to takeoff, the plane failed to reach takeoff speed, overran the runway, proceeded through a perimeter fence and cashed into a crowded market."
        ],
        [
         "5198",
         "04/16/2008",
         "14:23",
         "Off Annobon Island, Equatorial Guinea",
         "Military - Government of Equatorial Guinea",
         null,
         "Bata - Annobon Island",
         "Antonov An-32B",
         "3C-5GE",
         "1609",
         "13.0",
         "13.0",
         "0.0",
         "Crashed into the ocean after skidding off the runway in high winds and heavy rain."
        ],
        [
         "5199",
         "04/28/2008",
         "09:38",
         "Off Crimea, Black Sea",
         "Naftogaz",
         null,
         null,
         "Mil Mi-8T",
         "UR-24275",
         "98734295",
         "20.0",
         "20.0",
         "0.0",
         "The helicopter crashed after the tail section hit the tower of the offshore drilling platform while it was attempting to land. The pilot was a trainee flying with an instructor. One survivor succumbed to his injuries soon after the crash."
        ],
        [
         "5200",
         "05/02/2008",
         "10:10",
         "Near Rumbek, Sudan",
         "Southern Sudan Air Connection",
         null,
         "Wau - Rumbek - Juba",
         "Beechcraft 1900C",
         "5Y-FLX",
         "UC-65",
         "24.0",
         "24.0",
         "0.0",
         "The pilot radioed a control tower in the city of Rumbek just before the crash, requesting permission to land because one of the engines had technical problems. A few minutes later, the tower lost contact with the plane. The Minister of Defense, and an adviser to the Southern Sudan president, were among the dead."
        ],
        [
         "5201",
         "05/17/2008",
         "16:30",
         "Stehekin, Washington",
         "Chelan Air Service",
         null,
         "Chelan - Stehekin",
         "de Havilland Canada DHC-2 Mark I Beaver",
         "N5998Q",
         "1151",
         "5.0",
         "2.0",
         "0.0",
         "The float plane flipped and crashed as it attempted to land in Lake Chelan near Stehekin Lodge. It appeared the plane's wheels were deployed even though it was landing on water. The pilot's failure to retract the landing gear wheels prior to performing a water landing. Contributing to the accident were the pilot's disabling of the landing gear warning/advisory system and possible fatigue due to his work schedule."
        ],
        [
         "5202",
         "05/23/2008",
         "01:25",
         "Billings, Montana",
         "Alpine Aviation ",
         "5008",
         "Billings - Great Falls",
         "Beechcraft 1900C",
         "N195GA",
         "U-65",
         "1.0",
         "1.0",
         "0.0",
         "After taking off and  being told to turn left, the cargo plane, carrying mail, started a slow right turn until it crashed into a warehouse and burst into flames. The plane appeared to be inverted before it crashed. The pilot's failure to maintain aircraft control during the initial climb for undetermined reasons."
        ],
        [
         "5203",
         "05/24/2008",
         "09:30",
         "Two Harbors, Catalina Island, California",
         "Island Express Helicopter Service",
         null,
         "Long Beach - Two Harbors",
         "Eurocopter AS350D Astar",
         "N67GE",
         "1604",
         "6.0",
         "4.0",
         "0.0",
         "The tour helicopter crashed near Banning House lodge in rain and poor visibility. The engine appears to have failed."
        ],
        [
         "5204",
         "05/26/2008",
         "18:15",
         "Near Chelyabinsk, Russia",
         "Moskovia Airlines",
         null,
         "Chelyabinsk - Perm",
         "Antonov An-12",
         "RA-12957",
         "8345508",
         "9.0",
         "9.0",
         "0.0",
         "The crew of the cargo plane reported a fire shortly after taking off from Chelyabinsk. The plane crashed in a field while attempting to make an emergency landing, after striking a power transmission line."
        ],
        [
         "5205",
         "05/29/2008",
         "14:13",
         "Panama City, Panama",
         "Military - Servicio Aereo Nacional",
         null,
         "Tocumen - Colon",
         "Bell UN-1N Huey",
         "SAN-100",
         null,
         "12.0",
         "11.0",
         "0.0",
         "Chile's national police chief General Jose Alejandro Bernales, 59, and five others were killed when their helicopter crashed into a three story building. The helicopter pitched wildly before crashing into the building."
        ],
        [
         "5206",
         "05/30/2008",
         "09:40",
         "Tegucigalpa, Honduras",
         "TACA International Airlines",
         "390",
         "San Salvador, El Salvador - Tegucigalpa, Honduras - Miami",
         "Airbus A-320-233",
         "EI-TAF",
         "1374",
         "136.0",
         "3.0",
         "2.0",
         "After making a missed approach and during the second attempt at landing at Toncontin Airport, the plane overran the runway, skidded across a street, struck cars and came to rest against an embankment. The runway was wet with rain from Tropical Storm Alma."
        ],
        [
         "5207",
         "06/07/2008",
         "14:00",
         "Yeco, Chile",
         "Patagonia Airlines",
         null,
         "Puerto Montt - La Junta",
         "Cessna 208 Grand Caravan",
         "CC-CTR",
         "208B-1137",
         "10.0",
         "10.0",
         "0.0",
         "The air taxi crashed about 18 km from its destination into a heavily wooded area."
        ],
        [
         "5208",
         "06/08/2008",
         "07:45",
         "Huntsville, Texas",
         "PHI Air Medical",
         null,
         "Huntsville-Houston",
         "Bell 407",
         "N416PH",
         "53276",
         "4.0",
         "4.0",
         "0.0",
         "The medical helicopter crashed into the Sam Houston National Forest while transporting a patient to a Houston hospital. The pilot's failure to identify and arrest the helicopter's descent, which resulted in its impact with terrain. Contributing to the accident was the pilot's inadvertent flight into instrument meteorological conditions, and the limited outside visual reference due to the dark night conditions, low clouds, and fog."
        ],
        [
         "5209",
         "06/10/2008",
         "20:45",
         "Khartoum, Sudan",
         "Sudan Airways",
         "548",
         "Aman, Jordan - Damascus, Syria - Khartoum, Sudan",
         "Airbus A-310-324",
         "ST-ATN",
         "548",
         "214.0",
         "32.0",
         "0.0",
         "While landing in poor weather, the plane skidded off the runway, hit navigation poles and burst into flames. The plane had flown from Amman via Damascus but been turned back once from Khartoum and forced to land in Port Sudan, on the Red Sea, because of bad weather, before being allowed to return to Khartoum."
        ],
        [
         "5210",
         "06/18/2008",
         "10:03",
         "Hyannis, Massachusetts",
         "Wiggins Airways",
         null,
         "Hyannis - Nantucket",
         "de Havilland Canada DHC-6 Twin Otter 100",
         "N656WA",
         "47",
         "1.0",
         "1.0",
         "0.0",
         "The cargo plane took off, reached about 200 feet, rolled over to the right and impacted the ground, nose first."
        ],
        [
         "5211",
         "06/20/2008",
         null,
         "Bannang Sata, Thailand",
         "Military - Thai Army",
         null,
         null,
         "Bell UH-1N",
         null,
         null,
         "10.0",
         "10.0",
         "0.0",
         "The military helicopter developed a mechanical problem and crashed into a hill while attemping to land."
        ],
        [
         "5212",
         "06/26/2008",
         "15:03",
         "Near Salak Mountain, Indonesia",
         "Military - Indonesian Air Force",
         null,
         "Jakarta - aerial survelliance",
         "CASA NC-212",
         "A-2106",
         "228/N68",
         "18.0",
         "18.0",
         "0.0",
         "The plane went missing in an area approximately 60 miles south of Jakarta while on a aerial surveillance mission."
        ],
        [
         "5213",
         "06/27/2008",
         "07:05",
         "Near Malakal, Sudan",
         "Juba Air Cargo",
         null,
         "Khartoum - Juba",
         "Antonov 12BK",
         "ST-ARN",
         "8346010",
         "8.0",
         "7.0",
         "0.0",
         "The cargo plane crashed mid-flight after entering an area of thunderstorms."
        ],
        [
         "5214",
         "06/29/2008",
         "15:48",
         "Flagstaff, Arizona",
         "Air Methods / ClassiHelicopters",
         null,
         "Medical flight",
         "Bell 407 / Bell 407",
         "N407GA / N407MJ",
         "53104 / 53079",
         "7.0",
         "6.0",
         "0.0",
         "The two helicopters struck each other in mid-air and crashed in a wooded area about 0.5 miles from Flagstaff Medical Center. Both helicopter pilots' failure to see and avoid the other helicopter on approach to the helipad. Contributing to the accident were the failure of N407GA's pilot to follow arrival and noise abatement guidelines and the failure of N407MJ's pilot to follow communications guidelines."
        ],
        [
         "5215",
         "06/30/2008",
         "07:00",
         "Near Khartoum, Sudan",
         "Ababeel Aviaition",
         null,
         "Khartoum - Juba",
         "Ilysushin Il-76TD",
         "ST-WTB",
         "1003499994",
         "4.0",
         "4.0",
         "0.0",
         "While taking off, the cargo plane hit an electricity pole, crashed into a field and burst into flames. All four crew members were killed."
        ],
        [
         "5216",
         "07/06/2008",
         "02:15",
         "Saltillo, Mexico",
         "USA Jet Airlines",
         "199",
         "Hamilton, Ont, Can.- Shreveport, LA - Saltillo, Mexico",
         "Douglas DC9-15F",
         "N199US",
         "47153/185",
         "2.0",
         "1.0",
         "0.0",
         "While attempting to land, the cargo plane, loaded with auto parts, and experiencing engine trouble, crashed splitting into four pieces and scattering debris across an area of about 600 meters in diameter. The pilot was killed and the copilot seriously injured."
        ],
        [
         "5217",
         "07/07/2008",
         "03:50",
         "Near Bogota, Colombia",
         "Centurian Air Cargo",
         null,
         "Bogota, Colombia - Miami, FL",
         "Boeing B-747-209BSF",
         "N714CK",
         "22446/519",
         "8.0",
         "0.0",
         "3.0",
         "The cargo plane carrying a load of flowers had taken off from Bogota when the crew radioed that they had an engine fire. They attempted to return to the airport, but crashed in a field and destroyed a farm house killing three people inside."
        ],
        [
         "5218",
         "07/10/2008",
         "10:30",
         "Puerto Montt, Chile",
         "Aerocord",
         null,
         "Puerto Montt - Melinka Island",
         "Beechcraft 99A",
         "CC-CFM",
         "U-145",
         "9.0",
         "9.0",
         "0.0",
         "The plane made a sharp turn to the left and crashed shortly after taking off near La Paloma air strip. The plane was in flames as it plunged to the ground. The pilot and 8 passengers including a small boy were killed."
        ],
        [
         "5219",
         "07/31/2008",
         "09:53",
         "Owatonna, Minnesota",
         "East Coast Jets",
         "81",
         "AtlantiCity, NJ- Owatonna,MN",
         "British Aerospace BAe-125-800A",
         "N818MV",
         "258186",
         "8.0",
         "8.0",
         "0.0",
         "While attempting to land on Runway 30, the business jet landed 500 to 1000 feet down a 5,000 ft. runway, overran the runway, passed over a ditch and roadway, slid into a cornfield and broke up. One person survived the accident but died later."
        ],
        [
         "5220",
         "08/03/2008",
         "07:00",
         "North Vancouver Island, British Colombia, Canada",
         "PacifiCoast Airlines",
         null,
         "Port Hardy - Chamiss Bay, Vancouver Island",
         "Grumman G-21A Goose",
         "C-GPCD",
         "B-76",
         "7.0",
         "5.0",
         "0.0",
         "The plane crashed in a remote mountanous region of Vancouver Island while en route on a short 30 minute flight."
        ],
        [
         "5221",
         "08/05/2008",
         "19:30",
         "Near Junction City, California",
         "Junction City Fire Department",
         null,
         "Ferrying fire fighters",
         "Sikorsky S-61N",
         "N612AZ",
         "61297",
         "13.0",
         "9.0",
         "0.0",
         "The helicopter was ferrying fire fighters in Northern California's Shasta-Trinity National Forest when it crashed. The four survivors were seriously burned, with two listed in critical condition. The helicopter lost main rotor power during liftoff."
        ],
        [
         "5222",
         "08/06/2008",
         "11:40",
         "Sunat Tanon, Thailand",
         "Military - Royal Thai Air Force",
         null,
         "Betong - ",
         "Bell Huey UH-1H",
         null,
         null,
         "10.0",
         "10.0",
         "0.0",
         "The helicopter crashed while ferrying a forensiteam to the site of a gun battle between Muslim rebels and security forces. The aircraft suffered engine failure and crashed into the side of a hill."
        ],
        [
         "5223",
         "08/13/2008",
         "07:30",
         "K-50 Airport, Somalia",
         "Fly 540",
         null,
         "Kenya - Somalia",
         "Fokker F-27 Friendship 500",
         "5Y-BVF",
         "10627",
         "3.0",
         "3.0",
         "0.0",
         "While on approach in poor weather the cargo plane struck a telephone line and crashed."
        ],
        [
         "5224",
         "08/20/2008",
         "14:45",
         "Madrid, Spain",
         "Spanair",
         "5022",
         "Madrid - Las Palmas, Canary Islands",
         "McDonnell Douglas MD-82",
         "EC-HFP ",
         "53148/2072",
         "172.0",
         "154.0",
         "0.0",
         "The airliner crashed while attempting to takeoff. The plane was able to get slightly airborne before crashing into a ravine at the end of the runway. The plane took off without the crew extending  it's flaps and slats, but the pilots would not have known there was a problem because the alarm did not go off."
        ],
        [
         "5225",
         "08/24/2008",
         "09:40",
         "Near Cabañas, Guatemala",
         "Aéreo Ruta Maya",
         null,
         "Guatemala City - El Estor",
         "Cessna 208B Grand Caravan",
         "TG-JCS ",
         "208-00327",
         "14.0",
         "11.0",
         "0.0",
         "The plane lost engine power and the crew attempted an emergency landing in a field but crashed."
        ],
        [
         "5226",
         "08/24/2008",
         "20:30",
         "Bishkek, Kyrgyzstan",
         "Itek Air",
         "6895",
         "Bishkek - Tehran, Iran",
         "Boeing B-737-219",
         "EX-009",
         "22088",
         "90.0",
         "68.0",
         "0.0",
         "The plane crashed shortly after taking off from Manas International Airport. The crew reported a technical problem 10 minutes into the flight and said they were returning to the airport when it crashed 6 miles from the airport. The Iran Aseman Airlines flight was being carried out by Itek Air. Pilot error"
        ],
        [
         "5227",
         "08/30/2008",
         "21:50",
         "Near Toacaso, Ecuador",
         "Conviasa",
         null,
         "Caracas - Latacunga",
         "Boeing B-737-291",
         "YV-102T",
         "21545/525",
         "3.0",
         "3.0",
         "0.0",
         "The plane was on a positioning flight when it flew into the side of Iliniza Volcano."
        ],
        [
         "5228",
         "09/01/2008",
         "16:00",
         "Near Bukavu, Congo",
         "Air Serv Internatiional/CemAir",
         null,
         "Kisangani - Bukavu - Goma",
         "Beechcraft 1900C-1",
         "ZS-OLD",
         "UC-137",
         "17.0",
         "17.0",
         "0.0",
         "The plane, on a humanitarian flight to Goma, crashed into a ridge 8 miles NW of Bukavu while approaching the airport for a landing in severe weather."
        ],
        [
         "5229",
         "09/01/2008",
         "12:10",
         "Columbus, Ohio",
         "Air Tahoma",
         null,
         "Colombus - Mansfield",
         "Convair CV-580",
         "N587X",
         "361",
         "3.0",
         "3.0",
         "0.0",
         "Soon after taking off the pilot radioed he was returning to the airport but the aircraft crashed into a corn field, broke up and burned."
        ],
        [
         "5230",
         "09/03/2008",
         "20:20",
         "Off Dubai, United Arab Emirates",
         "Aerogulf",
         null,
         null,
         "Bell 212",
         "A6-AVL",
         null,
         "7.0",
         "7.0",
         "0.0",
         "While attempting to take off, the helicopter struck a crane, crashed on to the deck of the Maersk Resilient oil drilling rig, broke up and fell into the sea 43 miles off Duabi."
        ],
        [
         "5231",
         "09/14/2008",
         "03:15",
         "Perm, Russia",
         "Aeroflot",
         "821",
         "Moscow - Perm",
         "Boeing B-737-505",
         "VP-BKO",
         "25792/2353",
         "88.0",
         "88.0",
         "0.0",
         "The aircraft crashed into a ravine adjacent to railroad tracks and near an apartment building as it was approaching Perm for a landing. The plane was at 3,600 when contact was lost with the tower. Pilot error. The captain 'lost spatial orientation' after he misread an altitude indicator on the instrument panel. The  investigation revealed that the pilot had traces on alcohol in his blood."
        ],
        [
         "5232",
         "09/19/2008",
         "23:53",
         "Columbia, South Carolina",
         "Global Executive Aviation",
         null,
         "Colombia, SC - Los Angeles, CA",
         "Learjet 60",
         "N999LJ",
         "314",
         "6.0",
         "4.0",
         "0.0",
         "The plane was attempting to take off from Columbia Metropolitan Airport when it overran the runway, crashed through a perimeter fence, struck antennas and came to rest on an embankment adjacent to highway 302."
        ],
        [
         "5233",
         "09/27/2008",
         "03:57",
         "Camp Springs, Maryland",
         "Maryland State Police",
         null,
         "Medical evacuation flight",
         "Aerospatiale SA365N-1 Dauphin II",
         "N92MD",
         "6311",
         "5.0",
         "4.0",
         "0.0",
         "The medical helicopter carrying victims of a traffiaccident crashed in fog at Walker Mill Regional Park. The pilot radioed for help prior to the accident."
        ],
        [
         "5234",
         "10/08/2008",
         "07:31",
         "Lukla, Nepal",
         "Yeti Airlines",
         null,
         "Katmandu - Lukla",
         "de Havilland Canada DHC-6 Twin Otter 300",
         "9N-AFE ",
         "720",
         "19.0",
         "18.0",
         "0.0",
         "As the passenger plane came in for a landing, in fog, the main landing gears snagged on a security fence. The plane crashed to the ground and caught fire. The pilot was the only survivor. The cause was the two pilots who misjudged deteriorating weather conditions and flew inside a patch of fog while trying to land at Lukla airport, which is carved into the side of the Himalayas at an altitude of 9,200 feet."
        ],
        [
         "5235",
         "10/15/2008",
         "23:58",
         "Aurora, Illinois",
         "Air Angles Inc.",
         null,
         "Sandwich - Chicago",
         "Bell 222",
         "N992AA",
         "47062",
         "4.0",
         "4.0",
         "0.0",
         "The helicopter clipped a radio tower wire, crashed and burned killing all aboard."
        ],
        [
         "5236",
         "11/04/2008",
         "18:40",
         "Mexico City, Mexico",
         "Mexican Government",
         null,
         "San Luis Potosi - Mexico City",
         "Learjet 45",
         "XC-VMC",
         "45-028",
         "8.0",
         "8.0",
         "8.0",
         "Mexican Interior Minister Juan Camilo Mourino, 37, was killed when the executive jet he was flying in crashed next to a building, 4.8 kilometers from the airport where it was to land. A preliminary investigation found the jet's pilots didn't immediately follow instructions to slow down and appeared to be nearly one nautical mile too close behind a Boeing 767-300 on the same flight path to Mexico City's international airport."
        ],
        [
         "5237",
         "11/08/2008",
         "11:00",
         "Between Kibo & Mawenzi Peaks of Mt. Kilimanjaroi, Tanzania",
         "East African Air Charters",
         null,
         "Kampi ya Kanzi Airstrip - Loitokitok",
         "Cessna 206",
         "5Y-AOO",
         "206-01710",
         "5.0",
         "4.0",
         "0.0",
         "After taking off, the aircraft climbed to 12,500 feet. While cruising at this altitude, the aircraft was caught in a violent gust that initially pushed the plane upwards and towards the mountain. As the pilot tried to steer the aircraft away from the mountain, he realized that the airspeed had decayed to 40 kts., indicating an imminent stall. He decided to dive in order to gain air speed. As he did so the VSI indicated a rate of sink of 2,000 feet per minute while the airspeed remained at 40 kts. Visibility was poor and the pilot did not see the ground till impact at 14,399 feet. Four Italian tourists were killed. Only the pilot survived. It is therefore very likely that the aircraft was caught in a mountain wave that caused the sudden altitude gain and the subsequent stall."
        ],
        [
         "5238",
         "11/13/2008",
         "11:35",
         "Fallujah, Iraq",
         "Falcon Aviation Group",
         null,
         "al-Asad air base - Baghdad",
         "Antonov An-12",
         "S9-SAO",
         "346908",
         "7.0",
         "7.0",
         "0.0",
         "The cargo plane, chartered by FedEx, crashed west of Baghdad, shortly after taking off from al Asad air base and after the crew reported a malfunction with the plane."
        ],
        [
         "5239",
         "11/16/2008",
         "10:32",
         "Thormanby Island, British Columbia, Canada",
         "PacifiCoastal Airlines",
         null,
         "Vancouver - Powell River - Toba Inlet",
         "Grumman G-21A Goose",
         "C-FPCK",
         "1187",
         "8.0",
         "7.0",
         "0.0",
         "The charter aircraft crashed into a steep hillside on south Thormanby Island and exploded into flames."
        ],
        [
         "5240",
         "11/27/2008",
         "17:00",
         "Off Perpignan, France",
         "XL Airways leased from Air New Zealand",
         null,
         "Training",
         "Airbus A320-232",
         "D-AXLA",
         "2500",
         "7.0",
         "7.0",
         "0.0",
         "The Airbus A320 was leased by XL Airways of Germany since May 2006. The plane was scheduled to be returned to its owner, Air New Zealand. The plane was ferried to Perpignan, France where it underwent maintenance at EAS Industries. During a second test flight, on approach to Perpignan, at 3,500 feet, radio contact was lost. A controller reported seeing the plane descending quickly in a left bank. The aircraft soon after crashed into the sea and broke up."
        ],
        [
         "5241",
         "12/03/2008",
         "12:13",
         "San Juan, Puerto Rico",
         "Webstas Aviation Services Inc.",
         null,
         "Tortola Virgin Islands - San Juan, PR",
         "Rockwell International 690B",
         "N318WA ",
         "11444",
         "3.0",
         "3.0",
         "0.0",
         "The plane struck the side of El Yunque mountain 2,310 feet, east of San Juan in heavy fog."
        ],
        [
         "5242",
         "12/11/2008",
         "06:25",
         "Off Sabine Pass, Texas",
         "Rotorcraft Leasing Co",
         null,
         "Sabine Pass - Oil Platform",
         "Bell 206-L4 Jet Ranger III",
         "N180AL",
         "52104",
         "3.0",
         "3.0",
         "0.0",
         "The helicopter ferrying workers to an off shore drilling platform crashed into the Gulf, 8 miles from Sabine Pass."
        ]
       ],
       "shape": {
        "columns": 13,
        "rows": 75
       }
      },
      "text/html": [
       "<div>\n",
       "<style scoped>\n",
       "    .dataframe tbody tr th:only-of-type {\n",
       "        vertical-align: middle;\n",
       "    }\n",
       "\n",
       "    .dataframe tbody tr th {\n",
       "        vertical-align: top;\n",
       "    }\n",
       "\n",
       "    .dataframe thead th {\n",
       "        text-align: right;\n",
       "    }\n",
       "</style>\n",
       "<table border=\"1\" class=\"dataframe\">\n",
       "  <thead>\n",
       "    <tr style=\"text-align: right;\">\n",
       "      <th></th>\n",
       "      <th>Date</th>\n",
       "      <th>Time</th>\n",
       "      <th>Location</th>\n",
       "      <th>Operator</th>\n",
       "      <th>Flight #</th>\n",
       "      <th>Route</th>\n",
       "      <th>Type</th>\n",
       "      <th>Registration</th>\n",
       "      <th>cn/In</th>\n",
       "      <th>Aboard</th>\n",
       "      <th>Fatalities</th>\n",
       "      <th>Ground</th>\n",
       "      <th>Summary</th>\n",
       "    </tr>\n",
       "  </thead>\n",
       "  <tbody>\n",
       "    <tr>\n",
       "      <th>5193</th>\n",
       "      <td>03/15/2008</td>\n",
       "      <td>08:15</td>\n",
       "      <td>Nbagu, Nigeria</td>\n",
       "      <td>Trade Wings Aviation Ltd.</td>\n",
       "      <td>NaN</td>\n",
       "      <td>Lagos - Bebi Air Strip</td>\n",
       "      <td>Beechcraft 1900D</td>\n",
       "      <td>5N-JAH</td>\n",
       "      <td>UE-322</td>\n",
       "      <td>3.0</td>\n",
       "      <td>3.0</td>\n",
       "      <td>0.0</td>\n",
       "      <td>The plane crashed while en route. Wreckage was...</td>\n",
       "    </tr>\n",
       "    <tr>\n",
       "      <th>5194</th>\n",
       "      <td>04/03/2008</td>\n",
       "      <td>11:00</td>\n",
       "      <td>Lawa, Suriname</td>\n",
       "      <td>Blue Wing Airlines</td>\n",
       "      <td>NaN</td>\n",
       "      <td>Paramaribo - Lawa</td>\n",
       "      <td>Antonov An-28</td>\n",
       "      <td>PZ-TSO</td>\n",
       "      <td>1AJ007-17</td>\n",
       "      <td>19.0</td>\n",
       "      <td>19.0</td>\n",
       "      <td>0.0</td>\n",
       "      <td>While attempting to land the crew aborted the ...</td>\n",
       "    </tr>\n",
       "    <tr>\n",
       "      <th>5195</th>\n",
       "      <td>04/09/2008</td>\n",
       "      <td>23:27</td>\n",
       "      <td>Bundeena, Australia</td>\n",
       "      <td>Avtex Air Services</td>\n",
       "      <td>NaN</td>\n",
       "      <td>Sydney - Brisbane</td>\n",
       "      <td>Swearingen SA227AC Metroliner III</td>\n",
       "      <td>VH-OZA</td>\n",
       "      <td>AC-600</td>\n",
       "      <td>1.0</td>\n",
       "      <td>1.0</td>\n",
       "      <td>0.0</td>\n",
       "      <td>The pilot of the mail plane reported some mino...</td>\n",
       "    </tr>\n",
       "    <tr>\n",
       "      <th>5196</th>\n",
       "      <td>04/11/2008</td>\n",
       "      <td>22:15</td>\n",
       "      <td>Chrisinau, Moldova</td>\n",
       "      <td>Kata Transportation</td>\n",
       "      <td>NaN</td>\n",
       "      <td>Chrisinau, Moldova - Antalya, Turkey - Sudan</td>\n",
       "      <td>Antonov An-32</td>\n",
       "      <td>ST-AZL</td>\n",
       "      <td>3009</td>\n",
       "      <td>8.0</td>\n",
       "      <td>8.0</td>\n",
       "      <td>0.0</td>\n",
       "      <td>Just minutes after the take off the plane trie...</td>\n",
       "    </tr>\n",
       "    <tr>\n",
       "      <th>5197</th>\n",
       "      <td>04/15/2008</td>\n",
       "      <td>14:30</td>\n",
       "      <td>Goma, Congo</td>\n",
       "      <td>Hewa Bora Airways</td>\n",
       "      <td>NaN</td>\n",
       "      <td>Goma - Kisangani - Kinshasa</td>\n",
       "      <td>McDonnell Douglas DC-9-51</td>\n",
       "      <td>9Q-CHN</td>\n",
       "      <td>47731</td>\n",
       "      <td>85.0</td>\n",
       "      <td>0.0</td>\n",
       "      <td>47.0</td>\n",
       "      <td>While attempting to takeoff, the plane failed ...</td>\n",
       "    </tr>\n",
       "    <tr>\n",
       "      <th>...</th>\n",
       "      <td>...</td>\n",
       "      <td>...</td>\n",
       "      <td>...</td>\n",
       "      <td>...</td>\n",
       "      <td>...</td>\n",
       "      <td>...</td>\n",
       "      <td>...</td>\n",
       "      <td>...</td>\n",
       "      <td>...</td>\n",
       "      <td>...</td>\n",
       "      <td>...</td>\n",
       "      <td>...</td>\n",
       "      <td>...</td>\n",
       "    </tr>\n",
       "    <tr>\n",
       "      <th>5263</th>\n",
       "      <td>05/20/2009</td>\n",
       "      <td>06:30</td>\n",
       "      <td>Near Madiun, Indonesia</td>\n",
       "      <td>Military - Indonesian Air Force</td>\n",
       "      <td>NaN</td>\n",
       "      <td>Jakarta - Maduin</td>\n",
       "      <td>Lockheed C-130 Hercules</td>\n",
       "      <td>A-1325</td>\n",
       "      <td>1982</td>\n",
       "      <td>112.0</td>\n",
       "      <td>98.0</td>\n",
       "      <td>2.0</td>\n",
       "      <td>While on approach, the military transport cras...</td>\n",
       "    </tr>\n",
       "    <tr>\n",
       "      <th>5264</th>\n",
       "      <td>05/26/2009</td>\n",
       "      <td>NaN</td>\n",
       "      <td>Near Isiro, DemocratiRepubliCongo</td>\n",
       "      <td>Service Air</td>\n",
       "      <td>NaN</td>\n",
       "      <td>Goma - Isiro</td>\n",
       "      <td>Antonov An-26</td>\n",
       "      <td>9Q-CSA</td>\n",
       "      <td>5005</td>\n",
       "      <td>4.0</td>\n",
       "      <td>4.0</td>\n",
       "      <td>NaN</td>\n",
       "      <td>The cargo plane crashed while on approach to I...</td>\n",
       "    </tr>\n",
       "    <tr>\n",
       "      <th>5265</th>\n",
       "      <td>06/01/2009</td>\n",
       "      <td>00:15</td>\n",
       "      <td>AtlantiOcean, 570 miles northeast of Natal, Br...</td>\n",
       "      <td>Air France</td>\n",
       "      <td>447</td>\n",
       "      <td>Rio de Janeiro - Paris</td>\n",
       "      <td>Airbus A330-203</td>\n",
       "      <td>F-GZCP</td>\n",
       "      <td>660</td>\n",
       "      <td>228.0</td>\n",
       "      <td>228.0</td>\n",
       "      <td>0.0</td>\n",
       "      <td>The Airbus went missing over the AtlantiOcean ...</td>\n",
       "    </tr>\n",
       "    <tr>\n",
       "      <th>5266</th>\n",
       "      <td>06/07/2009</td>\n",
       "      <td>08:30</td>\n",
       "      <td>Near Port Hope Simpson, Newfoundland, Canada</td>\n",
       "      <td>Strait Air</td>\n",
       "      <td>NaN</td>\n",
       "      <td>Lourdes de BlanSablon - Port Hope Simpson</td>\n",
       "      <td>Britten-Norman BN-2A-27 Islander</td>\n",
       "      <td>C-FJJR</td>\n",
       "      <td>424</td>\n",
       "      <td>1.0</td>\n",
       "      <td>1.0</td>\n",
       "      <td>0.0</td>\n",
       "      <td>The air ambulance crashed into hills while att...</td>\n",
       "    </tr>\n",
       "    <tr>\n",
       "      <th>5267</th>\n",
       "      <td>06/08/2009</td>\n",
       "      <td>NaN</td>\n",
       "      <td>State of Arunachal Pradesh, India</td>\n",
       "      <td>Military - Indian Air Force</td>\n",
       "      <td>NaN</td>\n",
       "      <td>Mechuka for Jorhat</td>\n",
       "      <td>Antonov An-32</td>\n",
       "      <td>NaN</td>\n",
       "      <td>NaN</td>\n",
       "      <td>13.0</td>\n",
       "      <td>13.0</td>\n",
       "      <td>0.0</td>\n",
       "      <td>The military transport went missing while en r...</td>\n",
       "    </tr>\n",
       "  </tbody>\n",
       "</table>\n",
       "<p>75 rows × 13 columns</p>\n",
       "</div>"
      ],
      "text/plain": [
       "            Date   Time                                           Location  \\\n",
       "5193  03/15/2008  08:15                                     Nbagu, Nigeria   \n",
       "5194  04/03/2008  11:00                                     Lawa, Suriname   \n",
       "5195  04/09/2008  23:27                                Bundeena, Australia   \n",
       "5196  04/11/2008  22:15                                 Chrisinau, Moldova   \n",
       "5197  04/15/2008  14:30                                        Goma, Congo   \n",
       "...          ...    ...                                                ...   \n",
       "5263  05/20/2009  06:30                             Near Madiun, Indonesia   \n",
       "5264  05/26/2009    NaN                  Near Isiro, DemocratiRepubliCongo   \n",
       "5265  06/01/2009  00:15  AtlantiOcean, 570 miles northeast of Natal, Br...   \n",
       "5266  06/07/2009  08:30       Near Port Hope Simpson, Newfoundland, Canada   \n",
       "5267  06/08/2009    NaN                  State of Arunachal Pradesh, India   \n",
       "\n",
       "                             Operator Flight #  \\\n",
       "5193        Trade Wings Aviation Ltd.      NaN   \n",
       "5194               Blue Wing Airlines      NaN   \n",
       "5195               Avtex Air Services      NaN   \n",
       "5196              Kata Transportation      NaN   \n",
       "5197                Hewa Bora Airways      NaN   \n",
       "...                               ...      ...   \n",
       "5263  Military - Indonesian Air Force      NaN   \n",
       "5264                      Service Air      NaN   \n",
       "5265                       Air France      447   \n",
       "5266                       Strait Air      NaN   \n",
       "5267      Military - Indian Air Force      NaN   \n",
       "\n",
       "                                             Route  \\\n",
       "5193                        Lagos - Bebi Air Strip   \n",
       "5194                             Paramaribo - Lawa   \n",
       "5195                             Sydney - Brisbane   \n",
       "5196  Chrisinau, Moldova - Antalya, Turkey - Sudan   \n",
       "5197                   Goma - Kisangani - Kinshasa   \n",
       "...                                            ...   \n",
       "5263                              Jakarta - Maduin   \n",
       "5264                                  Goma - Isiro   \n",
       "5265                        Rio de Janeiro - Paris   \n",
       "5266     Lourdes de BlanSablon - Port Hope Simpson   \n",
       "5267                            Mechuka for Jorhat   \n",
       "\n",
       "                                   Type Registration      cn/In  Aboard  \\\n",
       "5193                   Beechcraft 1900D       5N-JAH     UE-322     3.0   \n",
       "5194                      Antonov An-28       PZ-TSO  1AJ007-17    19.0   \n",
       "5195  Swearingen SA227AC Metroliner III       VH-OZA     AC-600     1.0   \n",
       "5196                      Antonov An-32       ST-AZL       3009     8.0   \n",
       "5197          McDonnell Douglas DC-9-51       9Q-CHN      47731    85.0   \n",
       "...                                 ...          ...        ...     ...   \n",
       "5263            Lockheed C-130 Hercules       A-1325       1982   112.0   \n",
       "5264                      Antonov An-26       9Q-CSA       5005     4.0   \n",
       "5265                    Airbus A330-203       F-GZCP        660   228.0   \n",
       "5266   Britten-Norman BN-2A-27 Islander      C-FJJR         424     1.0   \n",
       "5267                      Antonov An-32          NaN        NaN    13.0   \n",
       "\n",
       "      Fatalities  Ground                                            Summary  \n",
       "5193         3.0     0.0  The plane crashed while en route. Wreckage was...  \n",
       "5194        19.0     0.0  While attempting to land the crew aborted the ...  \n",
       "5195         1.0     0.0  The pilot of the mail plane reported some mino...  \n",
       "5196         8.0     0.0  Just minutes after the take off the plane trie...  \n",
       "5197         0.0    47.0  While attempting to takeoff, the plane failed ...  \n",
       "...          ...     ...                                                ...  \n",
       "5263        98.0     2.0  While on approach, the military transport cras...  \n",
       "5264         4.0     NaN  The cargo plane crashed while on approach to I...  \n",
       "5265       228.0     0.0  The Airbus went missing over the AtlantiOcean ...  \n",
       "5266         1.0     0.0  The air ambulance crashed into hills while att...  \n",
       "5267        13.0     0.0  The military transport went missing while en r...  \n",
       "\n",
       "[75 rows x 13 columns]"
      ]
     },
     "execution_count": 5,
     "metadata": {},
     "output_type": "execute_result"
    }
   ],
   "source": [
    "df.tail(75)"
   ]
  },
  {
   "cell_type": "code",
   "execution_count": 6,
   "id": "a44f0a0c",
   "metadata": {},
   "outputs": [
    {
     "data": {
      "application/vnd.microsoft.datawrangler.viewer.v0+json": {
       "columns": [
        {
         "name": "index",
         "rawType": "object",
         "type": "string"
        },
        {
         "name": "missing_count",
         "rawType": "int64",
         "type": "integer"
        },
        {
         "name": "missing_pct",
         "rawType": "float64",
         "type": "float"
        }
       ],
       "ref": "f8c42ca6-f8db-4f34-9727-168bef35822c",
       "rows": [
        [
         "Date",
         "0",
         "0.0"
        ],
        [
         "Time",
         "2219",
         "42.12"
        ],
        [
         "Location",
         "20",
         "0.38"
        ],
        [
         "Operator",
         "18",
         "0.34"
        ],
        [
         "Flight #",
         "4199",
         "79.71"
        ],
        [
         "Route",
         "1707",
         "32.4"
        ],
        [
         "Type",
         "27",
         "0.51"
        ],
        [
         "Registration",
         "335",
         "6.36"
        ],
        [
         "cn/In",
         "1228",
         "23.31"
        ],
        [
         "Aboard",
         "22",
         "0.42"
        ],
        [
         "Fatalities",
         "12",
         "0.23"
        ],
        [
         "Ground",
         "22",
         "0.42"
        ],
        [
         "Summary",
         "390",
         "7.4"
        ]
       ],
       "shape": {
        "columns": 2,
        "rows": 13
       }
      },
      "text/html": [
       "<div>\n",
       "<style scoped>\n",
       "    .dataframe tbody tr th:only-of-type {\n",
       "        vertical-align: middle;\n",
       "    }\n",
       "\n",
       "    .dataframe tbody tr th {\n",
       "        vertical-align: top;\n",
       "    }\n",
       "\n",
       "    .dataframe thead th {\n",
       "        text-align: right;\n",
       "    }\n",
       "</style>\n",
       "<table border=\"1\" class=\"dataframe\">\n",
       "  <thead>\n",
       "    <tr style=\"text-align: right;\">\n",
       "      <th></th>\n",
       "      <th>missing_count</th>\n",
       "      <th>missing_pct</th>\n",
       "    </tr>\n",
       "  </thead>\n",
       "  <tbody>\n",
       "    <tr>\n",
       "      <th>Date</th>\n",
       "      <td>0</td>\n",
       "      <td>0.00</td>\n",
       "    </tr>\n",
       "    <tr>\n",
       "      <th>Time</th>\n",
       "      <td>2219</td>\n",
       "      <td>42.12</td>\n",
       "    </tr>\n",
       "    <tr>\n",
       "      <th>Location</th>\n",
       "      <td>20</td>\n",
       "      <td>0.38</td>\n",
       "    </tr>\n",
       "    <tr>\n",
       "      <th>Operator</th>\n",
       "      <td>18</td>\n",
       "      <td>0.34</td>\n",
       "    </tr>\n",
       "    <tr>\n",
       "      <th>Flight #</th>\n",
       "      <td>4199</td>\n",
       "      <td>79.71</td>\n",
       "    </tr>\n",
       "    <tr>\n",
       "      <th>Route</th>\n",
       "      <td>1707</td>\n",
       "      <td>32.40</td>\n",
       "    </tr>\n",
       "    <tr>\n",
       "      <th>Type</th>\n",
       "      <td>27</td>\n",
       "      <td>0.51</td>\n",
       "    </tr>\n",
       "    <tr>\n",
       "      <th>Registration</th>\n",
       "      <td>335</td>\n",
       "      <td>6.36</td>\n",
       "    </tr>\n",
       "    <tr>\n",
       "      <th>cn/In</th>\n",
       "      <td>1228</td>\n",
       "      <td>23.31</td>\n",
       "    </tr>\n",
       "    <tr>\n",
       "      <th>Aboard</th>\n",
       "      <td>22</td>\n",
       "      <td>0.42</td>\n",
       "    </tr>\n",
       "    <tr>\n",
       "      <th>Fatalities</th>\n",
       "      <td>12</td>\n",
       "      <td>0.23</td>\n",
       "    </tr>\n",
       "    <tr>\n",
       "      <th>Ground</th>\n",
       "      <td>22</td>\n",
       "      <td>0.42</td>\n",
       "    </tr>\n",
       "    <tr>\n",
       "      <th>Summary</th>\n",
       "      <td>390</td>\n",
       "      <td>7.40</td>\n",
       "    </tr>\n",
       "  </tbody>\n",
       "</table>\n",
       "</div>"
      ],
      "text/plain": [
       "              missing_count  missing_pct\n",
       "Date                      0         0.00\n",
       "Time                   2219        42.12\n",
       "Location                 20         0.38\n",
       "Operator                 18         0.34\n",
       "Flight #               4199        79.71\n",
       "Route                  1707        32.40\n",
       "Type                     27         0.51\n",
       "Registration            335         6.36\n",
       "cn/In                  1228        23.31\n",
       "Aboard                   22         0.42\n",
       "Fatalities               12         0.23\n",
       "Ground                   22         0.42\n",
       "Summary                 390         7.40"
      ]
     },
     "execution_count": 6,
     "metadata": {},
     "output_type": "execute_result"
    }
   ],
   "source": [
    "missing_table = pd.DataFrame({'missing_count': df.isna().sum(), 'missing_pct': (df.isna().sum()/len(df)*100).round(2)})\n",
    "missing_table"
   ]
  },
  {
   "cell_type": "code",
   "execution_count": 7,
   "id": "95a29256",
   "metadata": {},
   "outputs": [
    {
     "name": "stdout",
     "output_type": "stream",
     "text": [
      "- First column — typically an identifier/date column: parse dates if needed and keep original.\n",
      "- Column `Time` — missing 2219 (42.12%). Recommended: Impute with mode (most frequent) or placeholder 'Unknown'; investigate category meanings.\n",
      "- Column `Location` — missing 20 (0.38%). Recommended: Impute with mode (most frequent) or placeholder 'Unknown'; investigate category meanings.\n",
      "- Column `Operator` — missing 18 (0.34%). Recommended: Impute with mode (most frequent) or placeholder 'Unknown'; investigate category meanings.\n",
      "- Column `Flight #` — missing 4199 (79.71%). Recommended: Drop column or keep for reference; too many missing values to impute reliably.\n",
      "- Column `Route` — missing 1706 (32.38%). Recommended: Impute with mode (most frequent) or placeholder 'Unknown'; investigate category meanings.\n",
      "- Column `Type` — missing 27 (0.51%). Recommended: Impute with mode (most frequent) or placeholder 'Unknown'; investigate category meanings.\n",
      "- Column `Registration` — missing 335 (6.36%). Recommended: Impute with mode (most frequent) or placeholder 'Unknown'; investigate category meanings.\n",
      "- Column `cn/In` — missing 1228 (23.31%). Recommended: Impute with mode (most frequent) or placeholder 'Unknown'; investigate category meanings.\n",
      "- Column `Aboard` — missing 22 (0.42%). Recommended: Impute using median (robust to outliers) or mean if distribution is symmetric.\n",
      "- Column `Fatalities` — missing 12 (0.23%). Recommended: Impute using median (robust to outliers) or mean if distribution is symmetric.\n",
      "- Column `Ground` — missing 22 (0.42%). Recommended: Impute using median (robust to outliers) or mean if distribution is symmetric.\n",
      "- Column `Summary` — missing 390 (7.4%). Recommended: Impute with mode (most frequent) or placeholder 'Unknown'; investigate category meanings.\n"
     ]
    }
   ],
   "source": [
    "recommendations = ['First column — typically an identifier/date column: parse dates if needed and keep original.', \"Column `Time` — missing 2219 (42.12%). Recommended: Impute with mode (most frequent) or placeholder 'Unknown'; investigate category meanings.\", \"Column `Location` — missing 20 (0.38%). Recommended: Impute with mode (most frequent) or placeholder 'Unknown'; investigate category meanings.\", \"Column `Operator` — missing 18 (0.34%). Recommended: Impute with mode (most frequent) or placeholder 'Unknown'; investigate category meanings.\", 'Column `Flight #` — missing 4199 (79.71%). Recommended: Drop column or keep for reference; too many missing values to impute reliably.', \"Column `Route` — missing 1706 (32.38%). Recommended: Impute with mode (most frequent) or placeholder 'Unknown'; investigate category meanings.\", \"Column `Type` — missing 27 (0.51%). Recommended: Impute with mode (most frequent) or placeholder 'Unknown'; investigate category meanings.\", \"Column `Registration` — missing 335 (6.36%). Recommended: Impute with mode (most frequent) or placeholder 'Unknown'; investigate category meanings.\", \"Column `cn/In` — missing 1228 (23.31%). Recommended: Impute with mode (most frequent) or placeholder 'Unknown'; investigate category meanings.\", 'Column `Aboard` — missing 22 (0.42%). Recommended: Impute using median (robust to outliers) or mean if distribution is symmetric.', 'Column `Fatalities` — missing 12 (0.23%). Recommended: Impute using median (robust to outliers) or mean if distribution is symmetric.', 'Column `Ground` — missing 22 (0.42%). Recommended: Impute using median (robust to outliers) or mean if distribution is symmetric.', \"Column `Summary` — missing 390 (7.4%). Recommended: Impute with mode (most frequent) or placeholder 'Unknown'; investigate category meanings.\"]\n",
    "for r in recommendations:\n",
    "    print('- ' + r)\n"
   ]
  },
  {
   "cell_type": "code",
   "execution_count": 8,
   "id": "544ceeb9",
   "metadata": {},
   "outputs": [
    {
     "data": {
      "application/vnd.microsoft.datawrangler.viewer.v0+json": {
       "columns": [
        {
         "name": "index",
         "rawType": "int64",
         "type": "integer"
        },
        {
         "name": "Date",
         "rawType": "object",
         "type": "string"
        },
        {
         "name": "Location",
         "rawType": "object",
         "type": "string"
        },
        {
         "name": "Aboard",
         "rawType": "float64",
         "type": "float"
        },
        {
         "name": "Fatalities",
         "rawType": "float64",
         "type": "float"
        }
       ],
       "ref": "ff5b5f79-c099-4084-9601-e8f46f446243",
       "rows": [
        [
         "0",
         "09/17/1908",
         "Fort Myer, Virginia",
         "2.0",
         "1.0"
        ],
        [
         "1",
         "07/12/1912",
         "AtlantiCity, New Jersey",
         "5.0",
         "5.0"
        ],
        [
         "2",
         "08/06/1913",
         "Victoria, British Columbia, Canada",
         "1.0",
         "1.0"
        ],
        [
         "3",
         "09/09/1913",
         "Over the North Sea",
         "20.0",
         "14.0"
        ],
        [
         "4",
         "10/17/1913",
         "Near Johannisthal, Germany",
         "30.0",
         "30.0"
        ]
       ],
       "shape": {
        "columns": 4,
        "rows": 5
       }
      },
      "text/html": [
       "<div>\n",
       "<style scoped>\n",
       "    .dataframe tbody tr th:only-of-type {\n",
       "        vertical-align: middle;\n",
       "    }\n",
       "\n",
       "    .dataframe tbody tr th {\n",
       "        vertical-align: top;\n",
       "    }\n",
       "\n",
       "    .dataframe thead th {\n",
       "        text-align: right;\n",
       "    }\n",
       "</style>\n",
       "<table border=\"1\" class=\"dataframe\">\n",
       "  <thead>\n",
       "    <tr style=\"text-align: right;\">\n",
       "      <th></th>\n",
       "      <th>Date</th>\n",
       "      <th>Location</th>\n",
       "      <th>Aboard</th>\n",
       "      <th>Fatalities</th>\n",
       "    </tr>\n",
       "  </thead>\n",
       "  <tbody>\n",
       "    <tr>\n",
       "      <th>0</th>\n",
       "      <td>09/17/1908</td>\n",
       "      <td>Fort Myer, Virginia</td>\n",
       "      <td>2.0</td>\n",
       "      <td>1.0</td>\n",
       "    </tr>\n",
       "    <tr>\n",
       "      <th>1</th>\n",
       "      <td>07/12/1912</td>\n",
       "      <td>AtlantiCity, New Jersey</td>\n",
       "      <td>5.0</td>\n",
       "      <td>5.0</td>\n",
       "    </tr>\n",
       "    <tr>\n",
       "      <th>2</th>\n",
       "      <td>08/06/1913</td>\n",
       "      <td>Victoria, British Columbia, Canada</td>\n",
       "      <td>1.0</td>\n",
       "      <td>1.0</td>\n",
       "    </tr>\n",
       "    <tr>\n",
       "      <th>3</th>\n",
       "      <td>09/09/1913</td>\n",
       "      <td>Over the North Sea</td>\n",
       "      <td>20.0</td>\n",
       "      <td>14.0</td>\n",
       "    </tr>\n",
       "    <tr>\n",
       "      <th>4</th>\n",
       "      <td>10/17/1913</td>\n",
       "      <td>Near Johannisthal, Germany</td>\n",
       "      <td>30.0</td>\n",
       "      <td>30.0</td>\n",
       "    </tr>\n",
       "  </tbody>\n",
       "</table>\n",
       "</div>"
      ],
      "text/plain": [
       "         Date                            Location  Aboard  Fatalities\n",
       "0  09/17/1908                 Fort Myer, Virginia     2.0         1.0\n",
       "1  07/12/1912             AtlantiCity, New Jersey     5.0         5.0\n",
       "2  08/06/1913  Victoria, British Columbia, Canada     1.0         1.0\n",
       "3  09/09/1913                  Over the North Sea    20.0        14.0\n",
       "4  10/17/1913          Near Johannisthal, Germany    30.0        30.0"
      ]
     },
     "execution_count": 8,
     "metadata": {},
     "output_type": "execute_result"
    }
   ],
   "source": [
    "fatality_locations = df[['Date', 'Location', 'Aboard', 'Fatalities']].copy()\n",
    "fatality_locations.columns = ['Date','Location','Aboard','Fatalities']\n",
    "\n",
    "fatality_locations['Aboard'] = pd.to_numeric(fatality_locations['Aboard'], errors='coerce')\n",
    "fatality_locations['Fatalities'] = pd.to_numeric(fatality_locations['Fatalities'], errors='coerce')\n",
    "\n",
    "fatality_locations.head()\n"
   ]
  },
  {
   "cell_type": "code",
   "execution_count": 9,
   "id": "c89712e5",
   "metadata": {},
   "outputs": [
    {
     "data": {
      "application/vnd.microsoft.datawrangler.viewer.v0+json": {
       "columns": [
        {
         "name": "index",
         "rawType": "object",
         "type": "string"
        },
        {
         "name": "2963",
         "rawType": "object",
         "type": "unknown"
        }
       ],
       "ref": "a43f14e8-8eb0-4c7e-9931-21517cfa6060",
       "rows": [
        [
         "Date",
         "03/27/1977"
        ],
        [
         "Location",
         "Tenerife, Canary Islands"
        ],
        [
         "Aboard",
         "644.0"
        ],
        [
         "Fatalities",
         "583.0"
        ]
       ],
       "shape": {
        "columns": 1,
        "rows": 4
       }
      },
      "text/plain": [
       "Date                        03/27/1977\n",
       "Location      Tenerife, Canary Islands\n",
       "Aboard                           644.0\n",
       "Fatalities                       583.0\n",
       "Name: 2963, dtype: object"
      ]
     },
     "execution_count": 9,
     "metadata": {},
     "output_type": "execute_result"
    }
   ],
   "source": [
    "max_row = fatality_locations.loc[fatality_locations['Fatalities'].idxmax()]\n",
    "max_row[['Date','Location','Aboard','Fatalities']]"
   ]
  },
  {
   "cell_type": "code",
   "execution_count": 10,
   "id": "64b2071c",
   "metadata": {},
   "outputs": [
    {
     "data": {
      "text/plain": [
       "58"
      ]
     },
     "execution_count": 10,
     "metadata": {},
     "output_type": "execute_result"
    }
   ],
   "source": [
    "zero_fatal = fatality_locations[fatality_locations['Fatalities']==0]\n",
    "num_zero_fatal = len(zero_fatal)\n",
    "num_zero_fatal"
   ]
  },
  {
   "cell_type": "code",
   "execution_count": 11,
   "id": "ecc619a8",
   "metadata": {},
   "outputs": [
    {
     "data": {
      "application/vnd.microsoft.datawrangler.viewer.v0+json": {
       "columns": [
        {
         "name": "index",
         "rawType": "int64",
         "type": "integer"
        },
        {
         "name": "Date",
         "rawType": "object",
         "type": "string"
        },
        {
         "name": "Location",
         "rawType": "object",
         "type": "string"
        },
        {
         "name": "Region",
         "rawType": "object",
         "type": "string"
        },
        {
         "name": "State/Country",
         "rawType": "object",
         "type": "unknown"
        },
        {
         "name": "Aboard",
         "rawType": "float64",
         "type": "float"
        },
        {
         "name": "Fatalities",
         "rawType": "float64",
         "type": "float"
        }
       ],
       "ref": "773a6aa5-3ee8-4a8e-920a-4d165065b123",
       "rows": [
        [
         "0",
         "09/17/1908",
         "Fort Myer, Virginia",
         "Fort Myer",
         "Virginia",
         "2.0",
         "1.0"
        ],
        [
         "1",
         "07/12/1912",
         "AtlantiCity, New Jersey",
         "AtlantiCity",
         "New Jersey",
         "5.0",
         "5.0"
        ],
        [
         "2",
         "08/06/1913",
         "Victoria, British Columbia, Canada",
         "Victoria, British Columbia",
         "Canada",
         "1.0",
         "1.0"
        ],
        [
         "3",
         "09/09/1913",
         "Over the North Sea",
         "Over the North Sea",
         null,
         "20.0",
         "14.0"
        ],
        [
         "4",
         "10/17/1913",
         "Near Johannisthal, Germany",
         "Near Johannisthal",
         "Germany",
         "30.0",
         "30.0"
        ]
       ],
       "shape": {
        "columns": 6,
        "rows": 5
       }
      },
      "text/html": [
       "<div>\n",
       "<style scoped>\n",
       "    .dataframe tbody tr th:only-of-type {\n",
       "        vertical-align: middle;\n",
       "    }\n",
       "\n",
       "    .dataframe tbody tr th {\n",
       "        vertical-align: top;\n",
       "    }\n",
       "\n",
       "    .dataframe thead th {\n",
       "        text-align: right;\n",
       "    }\n",
       "</style>\n",
       "<table border=\"1\" class=\"dataframe\">\n",
       "  <thead>\n",
       "    <tr style=\"text-align: right;\">\n",
       "      <th></th>\n",
       "      <th>Date</th>\n",
       "      <th>Location</th>\n",
       "      <th>Region</th>\n",
       "      <th>State/Country</th>\n",
       "      <th>Aboard</th>\n",
       "      <th>Fatalities</th>\n",
       "    </tr>\n",
       "  </thead>\n",
       "  <tbody>\n",
       "    <tr>\n",
       "      <th>0</th>\n",
       "      <td>09/17/1908</td>\n",
       "      <td>Fort Myer, Virginia</td>\n",
       "      <td>Fort Myer</td>\n",
       "      <td>Virginia</td>\n",
       "      <td>2.0</td>\n",
       "      <td>1.0</td>\n",
       "    </tr>\n",
       "    <tr>\n",
       "      <th>1</th>\n",
       "      <td>07/12/1912</td>\n",
       "      <td>AtlantiCity, New Jersey</td>\n",
       "      <td>AtlantiCity</td>\n",
       "      <td>New Jersey</td>\n",
       "      <td>5.0</td>\n",
       "      <td>5.0</td>\n",
       "    </tr>\n",
       "    <tr>\n",
       "      <th>2</th>\n",
       "      <td>08/06/1913</td>\n",
       "      <td>Victoria, British Columbia, Canada</td>\n",
       "      <td>Victoria, British Columbia</td>\n",
       "      <td>Canada</td>\n",
       "      <td>1.0</td>\n",
       "      <td>1.0</td>\n",
       "    </tr>\n",
       "    <tr>\n",
       "      <th>3</th>\n",
       "      <td>09/09/1913</td>\n",
       "      <td>Over the North Sea</td>\n",
       "      <td>Over the North Sea</td>\n",
       "      <td>&lt;NA&gt;</td>\n",
       "      <td>20.0</td>\n",
       "      <td>14.0</td>\n",
       "    </tr>\n",
       "    <tr>\n",
       "      <th>4</th>\n",
       "      <td>10/17/1913</td>\n",
       "      <td>Near Johannisthal, Germany</td>\n",
       "      <td>Near Johannisthal</td>\n",
       "      <td>Germany</td>\n",
       "      <td>30.0</td>\n",
       "      <td>30.0</td>\n",
       "    </tr>\n",
       "  </tbody>\n",
       "</table>\n",
       "</div>"
      ],
      "text/plain": [
       "         Date                            Location                      Region  \\\n",
       "0  09/17/1908                 Fort Myer, Virginia                   Fort Myer   \n",
       "1  07/12/1912             AtlantiCity, New Jersey                 AtlantiCity   \n",
       "2  08/06/1913  Victoria, British Columbia, Canada  Victoria, British Columbia   \n",
       "3  09/09/1913                  Over the North Sea          Over the North Sea   \n",
       "4  10/17/1913          Near Johannisthal, Germany           Near Johannisthal   \n",
       "\n",
       "  State/Country  Aboard  Fatalities  \n",
       "0      Virginia     2.0         1.0  \n",
       "1    New Jersey     5.0         5.0  \n",
       "2        Canada     1.0         1.0  \n",
       "3          <NA>    20.0        14.0  \n",
       "4       Germany    30.0        30.0  "
      ]
     },
     "execution_count": 11,
     "metadata": {},
     "output_type": "execute_result"
    }
   ],
   "source": [
    "\n",
    "def split_location(x):\n",
    "    if pd.isna(x):\n",
    "        return pd.Series([pd.NA, pd.NA])\n",
    "    parts = [p.strip() for p in x.rsplit(',', 1)]\n",
    "    if len(parts) == 2:\n",
    "        return pd.Series(parts)\n",
    "    else:\n",
    "        return pd.Series([parts[0], pd.NA])\n",
    "\n",
    "fatality_locations[['Region','State/Country']] = fatality_locations['Location'].apply(split_location)\n",
    "fatality_locations[['Date','Location','Region','State/Country','Aboard','Fatalities']].head()\n"
   ]
  },
  {
   "cell_type": "code",
   "execution_count": 12,
   "id": "11eb1539",
   "metadata": {},
   "outputs": [
    {
     "data": {
      "application/vnd.microsoft.datawrangler.viewer.v0+json": {
       "columns": [
        {
         "name": "index",
         "rawType": "int64",
         "type": "integer"
        },
        {
         "name": "Date",
         "rawType": "object",
         "type": "string"
        },
        {
         "name": "Region",
         "rawType": "object",
         "type": "string"
        },
        {
         "name": "State/Country",
         "rawType": "object",
         "type": "string"
        },
        {
         "name": "Aboard",
         "rawType": "float64",
         "type": "float"
        },
        {
         "name": "Fatalities",
         "rawType": "float64",
         "type": "float"
        }
       ],
       "ref": "d1d3b70f-40d5-4f6d-9a8c-8587a6bb92d8",
       "rows": [
        [
         "2963",
         "03/27/1977",
         "Tenerife",
         "Canary Islands",
         "644.0",
         "583.0"
        ],
        [
         "3568",
         "08/12/1985",
         "Mt. Osutaka, near Ueno Village",
         "Japan",
         "524.0",
         "520.0"
        ],
        [
         "4455",
         "11/12/1996",
         "Near Charkhidadri",
         "India",
         "349.0",
         "349.0"
        ],
        [
         "2726",
         "03/03/1974",
         "Near Ermenonville",
         "France",
         "346.0",
         "346.0"
        ],
        [
         "3562",
         "06/23/1985",
         "AtlantiOcean",
         "110 miles West of Ireland",
         "329.0",
         "329.0"
        ],
        [
         "3240",
         "08/19/1980",
         "Near Riyadh",
         "Saudi Arabia",
         "301.0",
         "301.0"
        ],
        [
         "3775",
         "07/03/1988",
         "Over the Persian Gulf, near Bandar Abbas",
         "Iran",
         "290.0",
         "290.0"
        ],
        [
         "4916",
         "02/19/2003",
         "Near Shahdad",
         "Iran",
         "275.0",
         "275.0"
        ],
        [
         "3137",
         "05/25/1979",
         "Chicago O'Hare",
         "Illinois",
         "271.0",
         "271.0"
        ],
        [
         "3436",
         "09/01/1983",
         "Near Sakhalin Island",
         "Russia",
         "269.0",
         "269.0"
        ],
        [
         "4249",
         "04/26/1994",
         "Near Komaki, Aichi",
         "Japan",
         "271.0",
         "264.0"
        ],
        [
         "4026",
         "07/11/1991",
         "Jeddah",
         "Saudi Arabia",
         "261.0",
         "261.0"
        ],
        [
         "4817",
         "11/12/2001",
         "Belle Harbor, Queens",
         "New York",
         "260.0",
         "260.0"
        ],
        [
         "3816",
         "12/21/1988",
         "Lockerbie",
         "Scotland",
         "259.0",
         "259.0"
        ],
        [
         "3187",
         "11/28/1979",
         "Near Mt. Erebus, Ross Ice Shelf",
         "Antarctica",
         "257.0",
         "257.0"
        ],
        [
         "3596",
         "12/12/1985",
         "Gander, Newfoundland",
         "Canada",
         "256.0",
         "256.0"
        ],
        [
         "3513",
         "10/28/1984",
         "Near Kabul",
         "Afghanistan",
         "240.0",
         "240.0"
        ],
        [
         "4518",
         "09/26/1997",
         "Buah Nabar",
         "Indonesia",
         "234.0",
         "234.0"
        ],
        [
         "4429",
         "07/17/1996",
         "Off East Moriches",
         "New York",
         "230.0",
         "230.0"
        ],
        [
         "4507",
         "08/06/1997",
         "Agana",
         "Guam",
         "254.0",
         "229.0"
        ],
        [
         "4583",
         "09/02/1998",
         "Off Peggy's Cove, Nova Scotia",
         "Canada",
         "229.0",
         "229.0"
        ],
        [
         "5265",
         "06/01/2009",
         "AtlantiOcean, 570 miles northeast of Natal",
         "Brazil",
         "228.0",
         "228.0"
        ],
        [
         "4861",
         "05/25/2002",
         "Off Penghu Island",
         "Taiwan",
         "225.0",
         "225.0"
        ],
        [
         "4017",
         "05/26/1991",
         "Near Ban Nong Rong",
         "Thailand",
         "223.0",
         "223.0"
        ],
        [
         "4667",
         "10/31/1999",
         "Off Nantucket Island",
         "Massachusetts",
         "217.0",
         "217.0"
        ],
        [
         "3029",
         "01/01/1978",
         "Off Bandra, Maharashtra",
         "India",
         "213.0",
         "213.0"
        ],
        [
         "3564",
         "07/10/1985",
         "Near Uchuduk, Uzbekistan",
         "USSR",
         "200.0",
         "200.0"
        ],
        [
         "4547",
         "02/16/1998",
         "Taipei",
         "Taiwan",
         "196.0",
         "196.0"
        ],
        [
         "2783",
         "12/04/1974",
         "Near Maskeliya",
         "Sri Lanka",
         "191.0",
         "191.0"
        ],
        [
         "4397",
         "02/06/1996",
         "Off Puerto Plata",
         "Domincan Republic",
         "189.0",
         "189.0"
        ],
        [
         "2833",
         "08/03/1975",
         "Near Immouzer",
         "Morocco",
         "188.0",
         "188.0"
        ],
        [
         "5159",
         "07/17/2007",
         "Sao Paulo",
         "Brazil",
         "187.0",
         "187.0"
        ],
        [
         "3091",
         "11/15/1978",
         "Near Katunayake",
         "Sri Lanka",
         "262.0",
         "183.0"
        ],
        [
         "3687",
         "05/09/1987",
         "Warsaw",
         "Poland",
         "183.0",
         "183.0"
        ],
        [
         "3451",
         "11/27/1983",
         "Madrid-Barajas",
         "Spain",
         "192.0",
         "181.0"
        ],
        [
         "3319",
         "12/01/1981",
         "Mt. San Pietro, near Ajaccio, Corsica",
         "France",
         "180.0",
         "180.0"
        ],
        [
         "3158",
         "08/11/1979",
         "Dneprodzerzhinsk, Ukraine",
         "USSR",
         "178.0",
         "178.0"
        ],
        [
         "2924",
         "09/10/1976",
         "Near Gaj, Hrvatska",
         "Yugoslavia",
         "176.0",
         "176.0"
        ],
        [
         "2625",
         "01/22/1973",
         "Kano",
         "Nigeria",
         "202.0",
         "176.0"
        ],
        [
         "3844",
         "06/07/1989",
         "Near Paramaribo",
         "Surinam",
         "187.0",
         "176.0"
        ],
        [
         "2596",
         "10/13/1972",
         "Near Krasnaya Polyana",
         "USSR",
         "174.0",
         "174.0"
        ],
        [
         "3510",
         "10/11/1984",
         "Near Omsk",
         "Russia",
         "179.0",
         "174.0"
        ],
        [
         "3877",
         "09/19/1989",
         "Near Bilma",
         "Niger",
         "171.0",
         "171.0"
        ],
        [
         "5114",
         "08/22/2006",
         "Near Donetsk",
         "Ukraine",
         "170.0",
         "170.0"
        ],
        [
         "4694",
         "01/30/2000",
         "Off Abidjan",
         "Ivory Coast",
         "179.0",
         "169.0"
        ],
        [
         "3613",
         "03/31/1986",
         "Maravatio",
         "Mexico",
         "167.0",
         "167.0"
        ],
        [
         "4116",
         "09/28/1992",
         "Near  Kathmandu",
         "Nepal",
         "167.0",
         "167.0"
        ],
        [
         "3228",
         "07/07/1980",
         "Nar Alma-Ata, Kasakastan",
         "USSR",
         "166.0",
         "166.0"
        ],
        [
         "2485",
         "07/30/1971",
         "Near Morioko",
         "Japan",
         "164.0",
         "163.0"
        ],
        [
         "4256",
         "06/06/1994",
         "Near Xi'an",
         "China",
         "160.0",
         "160.0"
        ]
       ],
       "shape": {
        "columns": 5,
        "rows": 100
       }
      },
      "text/html": [
       "<div>\n",
       "<style scoped>\n",
       "    .dataframe tbody tr th:only-of-type {\n",
       "        vertical-align: middle;\n",
       "    }\n",
       "\n",
       "    .dataframe tbody tr th {\n",
       "        vertical-align: top;\n",
       "    }\n",
       "\n",
       "    .dataframe thead th {\n",
       "        text-align: right;\n",
       "    }\n",
       "</style>\n",
       "<table border=\"1\" class=\"dataframe\">\n",
       "  <thead>\n",
       "    <tr style=\"text-align: right;\">\n",
       "      <th></th>\n",
       "      <th>Date</th>\n",
       "      <th>Region</th>\n",
       "      <th>State/Country</th>\n",
       "      <th>Aboard</th>\n",
       "      <th>Fatalities</th>\n",
       "    </tr>\n",
       "  </thead>\n",
       "  <tbody>\n",
       "    <tr>\n",
       "      <th>2963</th>\n",
       "      <td>03/27/1977</td>\n",
       "      <td>Tenerife</td>\n",
       "      <td>Canary Islands</td>\n",
       "      <td>644.0</td>\n",
       "      <td>583.0</td>\n",
       "    </tr>\n",
       "    <tr>\n",
       "      <th>3568</th>\n",
       "      <td>08/12/1985</td>\n",
       "      <td>Mt. Osutaka, near Ueno Village</td>\n",
       "      <td>Japan</td>\n",
       "      <td>524.0</td>\n",
       "      <td>520.0</td>\n",
       "    </tr>\n",
       "    <tr>\n",
       "      <th>4455</th>\n",
       "      <td>11/12/1996</td>\n",
       "      <td>Near Charkhidadri</td>\n",
       "      <td>India</td>\n",
       "      <td>349.0</td>\n",
       "      <td>349.0</td>\n",
       "    </tr>\n",
       "    <tr>\n",
       "      <th>2726</th>\n",
       "      <td>03/03/1974</td>\n",
       "      <td>Near Ermenonville</td>\n",
       "      <td>France</td>\n",
       "      <td>346.0</td>\n",
       "      <td>346.0</td>\n",
       "    </tr>\n",
       "    <tr>\n",
       "      <th>3562</th>\n",
       "      <td>06/23/1985</td>\n",
       "      <td>AtlantiOcean</td>\n",
       "      <td>110 miles West of Ireland</td>\n",
       "      <td>329.0</td>\n",
       "      <td>329.0</td>\n",
       "    </tr>\n",
       "    <tr>\n",
       "      <th>...</th>\n",
       "      <td>...</td>\n",
       "      <td>...</td>\n",
       "      <td>...</td>\n",
       "      <td>...</td>\n",
       "      <td>...</td>\n",
       "    </tr>\n",
       "    <tr>\n",
       "      <th>4852</th>\n",
       "      <td>04/15/2002</td>\n",
       "      <td>Busan</td>\n",
       "      <td>South Korea</td>\n",
       "      <td>166.0</td>\n",
       "      <td>128.0</td>\n",
       "    </tr>\n",
       "    <tr>\n",
       "      <th>3198</th>\n",
       "      <td>01/21/1980</td>\n",
       "      <td>Elburz Mtns., near Laskarak, Markazi</td>\n",
       "      <td>Iran</td>\n",
       "      <td>128.0</td>\n",
       "      <td>128.0</td>\n",
       "    </tr>\n",
       "    <tr>\n",
       "      <th>1701</th>\n",
       "      <td>12/16/1960</td>\n",
       "      <td>Staten Island / Brooklyn</td>\n",
       "      <td>New York</td>\n",
       "      <td>128.0</td>\n",
       "      <td>128.0</td>\n",
       "    </tr>\n",
       "    <tr>\n",
       "      <th>5108</th>\n",
       "      <td>07/09/2006</td>\n",
       "      <td>Irkutsk</td>\n",
       "      <td>Russia</td>\n",
       "      <td>203.0</td>\n",
       "      <td>128.0</td>\n",
       "    </tr>\n",
       "    <tr>\n",
       "      <th>1433</th>\n",
       "      <td>06/30/1956</td>\n",
       "      <td>Grand Canyon</td>\n",
       "      <td>Arizona</td>\n",
       "      <td>128.0</td>\n",
       "      <td>128.0</td>\n",
       "    </tr>\n",
       "  </tbody>\n",
       "</table>\n",
       "<p>100 rows × 5 columns</p>\n",
       "</div>"
      ],
      "text/plain": [
       "            Date                                Region  \\\n",
       "2963  03/27/1977                              Tenerife   \n",
       "3568  08/12/1985        Mt. Osutaka, near Ueno Village   \n",
       "4455  11/12/1996                     Near Charkhidadri   \n",
       "2726  03/03/1974                     Near Ermenonville   \n",
       "3562  06/23/1985                          AtlantiOcean   \n",
       "...          ...                                   ...   \n",
       "4852  04/15/2002                                 Busan   \n",
       "3198  01/21/1980  Elburz Mtns., near Laskarak, Markazi   \n",
       "1701  12/16/1960              Staten Island / Brooklyn   \n",
       "5108  07/09/2006                               Irkutsk   \n",
       "1433  06/30/1956                          Grand Canyon   \n",
       "\n",
       "                  State/Country  Aboard  Fatalities  \n",
       "2963             Canary Islands   644.0       583.0  \n",
       "3568                      Japan   524.0       520.0  \n",
       "4455                      India   349.0       349.0  \n",
       "2726                     France   346.0       346.0  \n",
       "3562  110 miles West of Ireland   329.0       329.0  \n",
       "...                         ...     ...         ...  \n",
       "4852                South Korea   166.0       128.0  \n",
       "3198                       Iran   128.0       128.0  \n",
       "1701                   New York   128.0       128.0  \n",
       "5108                     Russia   203.0       128.0  \n",
       "1433                    Arizona   128.0       128.0  \n",
       "\n",
       "[100 rows x 5 columns]"
      ]
     },
     "execution_count": 12,
     "metadata": {},
     "output_type": "execute_result"
    }
   ],
   "source": [
    "top100 = fatality_locations.sort_values('Fatalities', ascending=False).head(100)\n",
    "top100[['Date','Region','State/Country','Aboard','Fatalities']]"
   ]
  },
  {
   "cell_type": "code",
   "execution_count": 13,
   "id": "2dd17df3",
   "metadata": {},
   "outputs": [
    {
     "name": "stdout",
     "output_type": "stream",
     "text": [
      "Requirement already satisfied: matplotlib in c:\\users\\colli\\onedrive - strathmore university\\ai-coursework--2025-\\.venv\\lib\\site-packages (3.10.7)\n",
      "Requirement already satisfied: contourpy>=1.0.1 in c:\\users\\colli\\onedrive - strathmore university\\ai-coursework--2025-\\.venv\\lib\\site-packages (from matplotlib) (1.3.3)\n",
      "Requirement already satisfied: cycler>=0.10 in c:\\users\\colli\\onedrive - strathmore university\\ai-coursework--2025-\\.venv\\lib\\site-packages (from matplotlib) (0.12.1)\n",
      "Requirement already satisfied: fonttools>=4.22.0 in c:\\users\\colli\\onedrive - strathmore university\\ai-coursework--2025-\\.venv\\lib\\site-packages (from matplotlib) (4.60.1)\n",
      "Requirement already satisfied: kiwisolver>=1.3.1 in c:\\users\\colli\\onedrive - strathmore university\\ai-coursework--2025-\\.venv\\lib\\site-packages (from matplotlib) (1.4.9)\n",
      "Requirement already satisfied: numpy>=1.23 in c:\\users\\colli\\onedrive - strathmore university\\ai-coursework--2025-\\.venv\\lib\\site-packages (from matplotlib) (2.3.3)\n",
      "Requirement already satisfied: packaging>=20.0 in c:\\users\\colli\\onedrive - strathmore university\\ai-coursework--2025-\\.venv\\lib\\site-packages (from matplotlib) (25.0)\n",
      "Requirement already satisfied: pillow>=8 in c:\\users\\colli\\onedrive - strathmore university\\ai-coursework--2025-\\.venv\\lib\\site-packages (from matplotlib) (11.3.0)\n",
      "Requirement already satisfied: pyparsing>=3 in c:\\users\\colli\\onedrive - strathmore university\\ai-coursework--2025-\\.venv\\lib\\site-packages (from matplotlib) (3.2.5)\n",
      "Requirement already satisfied: python-dateutil>=2.7 in c:\\users\\colli\\onedrive - strathmore university\\ai-coursework--2025-\\.venv\\lib\\site-packages (from matplotlib) (2.9.0.post0)\n",
      "Requirement already satisfied: six>=1.5 in c:\\users\\colli\\onedrive - strathmore university\\ai-coursework--2025-\\.venv\\lib\\site-packages (from python-dateutil>=2.7->matplotlib) (1.17.0)\n",
      "Note: you may need to restart the kernel to use updated packages.\n"
     ]
    },
    {
     "name": "stderr",
     "output_type": "stream",
     "text": [
      "\n",
      "[notice] A new release of pip is available: 24.2 -> 25.2\n",
      "[notice] To update, run: python.exe -m pip install --upgrade pip\n"
     ]
    },
    {
     "data": {
      "image/png": "[encoded data removed]",
      "text/plain": [
       "<Figure size 1000x1000 with 1 Axes>"
      ]
     },
     "metadata": {},
     "output_type": "display_data"
    },
    {
     "data": {
      "application/vnd.microsoft.datawrangler.viewer.v0+json": {
       "columns": [
        {
         "name": "State/Country",
         "rawType": "object",
         "type": "string"
        },
        {
         "name": "Fatalities",
         "rawType": "float64",
         "type": "float"
        }
       ],
       "ref": "43825991-b973-46cc-9d19-b7f0d9dc4926",
       "rows": [
        [
         "Russia",
         "6660.0"
        ],
        [
         "Brazil",
         "3205.0"
        ],
        [
         "Colombia",
         "2935.0"
        ],
        [
         "USSR",
         "2831.0"
        ],
        [
         "Unknown",
         "2817.0"
        ],
        [
         "France",
         "2735.0"
        ],
        [
         "India",
         "2624.0"
        ],
        [
         "China",
         "2189.0"
        ],
        [
         "Indonesia",
         "2050.0"
        ],
        [
         "Japan",
         "2050.0"
        ],
        [
         "Canada",
         "1867.0"
        ],
        [
         "Iran",
         "1772.0"
        ],
        [
         "California",
         "1754.0"
        ],
        [
         "Italy",
         "1732.0"
        ],
        [
         "England",
         "1584.0"
        ],
        [
         "New York",
         "1558.0"
        ],
        [
         "Spain",
         "1539.0"
        ],
        [
         "Peru",
         "1495.0"
        ],
        [
         "Nigeria",
         "1278.0"
        ],
        [
         "Philippines",
         "1266.0"
        ],
        [
         "Alaska",
         "1254.0"
        ],
        [
         "South Vietnam",
         "1250.0"
        ],
        [
         "Mexico",
         "1231.0"
        ],
        [
         "Venezuela",
         "1191.0"
        ],
        [
         "Saudi Arabia",
         "1183.0"
        ]
       ],
       "shape": {
        "columns": 1,
        "rows": 25
       }
      },
      "text/plain": [
       "State/Country\n",
       "Russia           6660.0\n",
       "Brazil           3205.0\n",
       "Colombia         2935.0\n",
       "USSR             2831.0\n",
       "Unknown          2817.0\n",
       "France           2735.0\n",
       "India            2624.0\n",
       "China            2189.0\n",
       "Indonesia        2050.0\n",
       "Japan            2050.0\n",
       "Canada           1867.0\n",
       "Iran             1772.0\n",
       "California       1754.0\n",
       "Italy            1732.0\n",
       "England          1584.0\n",
       "New York         1558.0\n",
       "Spain            1539.0\n",
       "Peru             1495.0\n",
       "Nigeria          1278.0\n",
       "Philippines      1266.0\n",
       "Alaska           1254.0\n",
       "South Vietnam    1250.0\n",
       "Mexico           1231.0\n",
       "Venezuela        1191.0\n",
       "Saudi Arabia     1183.0\n",
       "Name: Fatalities, dtype: float64"
      ]
     },
     "execution_count": 13,
     "metadata": {},
     "output_type": "execute_result"
    }
   ],
   "source": [
    "\n",
    "%pip install matplotlib\n",
    "\n",
    "import matplotlib.pyplot as plt\n",
    "\n",
    "agg = fatality_locations.copy()\n",
    "agg['State/Country'] = agg['State/Country'].fillna('Unknown')\n",
    "by_country = agg.groupby('State/Country')['Fatalities'].sum().sort_values(ascending=False)\n",
    "top25 = by_country.head(25)\n",
    "\n",
    "plt.figure(figsize=(10,10))\n",
    "top25.plot.pie(autopct='%1.1f%%', startangle=90, ylabel='')\n",
    "plt.title('Top 25 fatalities by Country / U.S. State (sum of Fatalities)')\n",
    "plt.tight_layout()\n",
    "plt.show()\n",
    "\n",
    "top25\n"
   ]
  }
 ],
 "metadata": {
  "kernelspec": {
   "display_name": ".venv (3.12.6)",
   "language": "python",
   "name": "python3"
  },
  "language_info": {
   "codemirror_mode": {
    "name": "ipython",
    "version": 3
   },
   "file_extension": ".py",
   "mimetype": "text/x-python",
   "name": "python",
   "nbconvert_exporter": "python",
   "pygments_lexer": "ipython3",
   "version": "3.12.6"
  }
 },
 "nbformat": 4,
 "nbformat_minor": 5
}
