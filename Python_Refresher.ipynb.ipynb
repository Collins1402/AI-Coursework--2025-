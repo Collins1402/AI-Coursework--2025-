{
 "cells": [
  {
   "cell_type": "code",
   "execution_count": 1,
   "id": "19a18627",
   "metadata": {},
   "outputs": [
    {
     "name": "stdout",
     "output_type": "stream",
     "text": [
      "There are 2246400 seconds in 26 days.\n"
     ]
    }
   ],
   "source": [
    "# Q1. Program to calculate the number of seconds in the given number of days.\n",
    "\n",
    "# Ask user for the number of days\n",
    "days = int(input(\"Enter the number of days: \"))\n",
    "\n",
    "# Calculate seconds in the given number of days (1 day = 24 hours * 60 minutes * 60 seconds)\n",
    "seconds = days * 24 * 60 * 60\n",
    "\n",
    "# Display the result\n",
    "print(f\"There are {seconds} seconds in {days} days.\")"
   ]
  },
  {
   "cell_type": "code",
   "execution_count": 3,
   "id": "e175a5e6",
   "metadata": {},
   "outputs": [
    {
     "name": "stdout",
     "output_type": "stream",
     "text": [
      "The volume of the sphere with radius 28.0 is 91952.32\n"
     ]
    }
   ],
   "source": [
    "# Q2. Program to calculate the volume of a sphere using the formula V = (4/3)*π*r^3\n",
    "\n",
    "import math  # Import math module for the value of π\n",
    "\n",
    "# Ask the user to input the radius\n",
    "radius = float(input(\"Enter the radius of the sphere: \"))\n",
    "\n",
    "# Compute the volume using the exponential operator (**)\n",
    "volume = (4/3) * math.pi * (radius ** 3)\n",
    "\n",
    "# Display the result\n",
    "print(f\"The volume of the sphere with radius {radius} is {volume:.2f}\")\n"
   ]
  },
  {
   "cell_type": "code",
   "execution_count": 4,
   "id": "1ab7c724",
   "metadata": {},
   "outputs": [
    {
     "name": "stdout",
     "output_type": "stream",
     "text": [
      "For a square with side 266.0:\n",
      "Area = 70756.0\n",
      "Perimeter = 1064.0\n"
     ]
    }
   ],
   "source": [
    "# Q3. Program using functions to compute the area and perimeter of a square.\n",
    "\n",
    "# Define a function to calculate the area of a square\n",
    "def area_of_square(side):\n",
    "    return side ** 2\n",
    "\n",
    "# Define a function to calculate the perimeter of a square\n",
    "def perimeter_of_square(side):\n",
    "    return 4 * side\n",
    "\n",
    "# Ask user to enter the side length\n",
    "side_length = float(input(\"Enter the side length of the square: \"))\n",
    "\n",
    "# Call functions and store results\n",
    "area = area_of_square(side_length)\n",
    "perimeter = perimeter_of_square(side_length)\n",
    "\n",
    "# Display the results\n",
    "print(f\"For a square with side {side_length}:\")\n",
    "print(f\"Area = {area}\")\n",
    "print(f\"Perimeter = {perimeter}\")\n"
   ]
  },
  {
   "cell_type": "code",
   "execution_count": 5,
   "id": "022ade9e",
   "metadata": {},
   "outputs": [
    {
     "name": "stdout",
     "output_type": "stream",
     "text": [
      "The character 'A' is: Uppercase\n"
     ]
    }
   ],
   "source": [
    "# Q4. Program using functions to determine if a character is uppercase or lowercase.\n",
    "\n",
    "# Define a function to check character case\n",
    "def check_case(character):\n",
    "    if character.isupper():\n",
    "        return \"Uppercase\"\n",
    "    elif character.islower():\n",
    "        return \"Lowercase\"\n",
    "    else:\n",
    "        return \"Not an alphabetic character\"\n",
    "\n",
    "# Ask the user for a character input\n",
    "char_input = input(\"Enter a single character: \")\n",
    "\n",
    "# Call the function and display the result\n",
    "result = check_case(char_input)\n",
    "print(f\"The character '{char_input}' is: {result}\")\n"
   ]
  },
  {
   "cell_type": "code",
   "execution_count": 7,
   "id": "2eb2ccf7",
   "metadata": {},
   "outputs": [
    {
     "name": "stdout",
     "output_type": "stream",
     "text": [
      "the final value of x is 1.0416666666666665\n"
     ]
    }
   ],
   "source": [
    "# Q5. A python program that matches a pseudocode for a program being designed\n",
    "\n",
    "x = 0\n",
    "y = 20\n",
    "\n",
    "while y >= 6:\n",
    "    y -= 4\n",
    "    x += 2 / y\n",
    "\n",
    "print(\"the final value of x is\", x)"
   ]
  },
  {
   "cell_type": "code",
   "execution_count": 9,
   "id": "9fd1cc63",
   "metadata": {},
   "outputs": [
    {
     "name": "stdout",
     "output_type": "stream",
     "text": [
      "The average of the entered values is: 24.0\n"
     ]
    }
   ],
   "source": [
    "'''Q6. A python program that uses a loop for a user to continually input 5 values \n",
    "to populate an array and calculates and displays the average of the values input into the array'''\n",
    "\n",
    "# Initialize an empty list to store the values\n",
    "values = []\n",
    "# Loop to get 5 values from the user\n",
    "for i in range(5):\n",
    "    value = float(input(f\"Enter value {i+1}: \"))\n",
    "    values.append(value)\n",
    "# Calculate the average\n",
    "average = sum(values) / len(values)\n",
    "# Display the average\n",
    "\n",
    "print(f\"The average of the entered values is: {average}\")\n"
   ]
  }
 ],
 "metadata": {
  "kernelspec": {
   "display_name": ".venv (3.12.6)",
   "language": "python",
   "name": "python3"
  },
  "language_info": {
   "codemirror_mode": {
    "name": "ipython",
    "version": 3
   },
   "file_extension": ".py",
   "mimetype": "text/x-python",
   "name": "python",
   "nbconvert_exporter": "python",
   "pygments_lexer": "ipython3",
   "version": "3.12.6"
  }
 },
 "nbformat": 4,
 "nbformat_minor": 5
}
